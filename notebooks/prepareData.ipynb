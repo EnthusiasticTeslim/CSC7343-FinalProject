{
 "cells": [
  {
   "cell_type": "code",
   "execution_count": 1,
   "metadata": {},
   "outputs": [
    {
     "name": "stdout",
     "output_type": "stream",
     "text": [
      "/Users/gbemidebe/Documents/LSUCourses/Fall2023/CSC7343/homeworks/Project\n"
     ]
    }
   ],
   "source": [
    "import os\n",
    "\n",
    "os.chdir('../')\n",
    "\n",
    "print(os.getcwd())"
   ]
  },
  {
   "cell_type": "code",
   "execution_count": 2,
   "metadata": {},
   "outputs": [
    {
     "ename": "ModuleNotFoundError",
     "evalue": "No module named 'torch'",
     "output_type": "error",
     "traceback": [
      "\u001b[0;31m---------------------------------------------------------------------------\u001b[0m",
      "\u001b[0;31mModuleNotFoundError\u001b[0m                       Traceback (most recent call last)",
      "\u001b[1;32m/Users/gbemidebe/Documents/LSUCourses/Fall2023/CSC7343/homeworks/Project/notebooks/prepareData.ipynb Cell 2\u001b[0m line \u001b[0;36m1\n\u001b[0;32m----> <a href='vscode-notebook-cell:/Users/gbemidebe/Documents/LSUCourses/Fall2023/CSC7343/homeworks/Project/notebooks/prepareData.ipynb#W2sZmlsZQ%3D%3D?line=0'>1</a>\u001b[0m \u001b[39mimport\u001b[39;00m \u001b[39mtorch\u001b[39;00m\n\u001b[1;32m      <a href='vscode-notebook-cell:/Users/gbemidebe/Documents/LSUCourses/Fall2023/CSC7343/homeworks/Project/notebooks/prepareData.ipynb#W2sZmlsZQ%3D%3D?line=1'>2</a>\u001b[0m \u001b[39mimport\u001b[39;00m \u001b[39mtorch\u001b[39;00m\u001b[39m.\u001b[39;00m\u001b[39mnn\u001b[39;00m \u001b[39mas\u001b[39;00m \u001b[39mnn\u001b[39;00m\n\u001b[1;32m      <a href='vscode-notebook-cell:/Users/gbemidebe/Documents/LSUCourses/Fall2023/CSC7343/homeworks/Project/notebooks/prepareData.ipynb#W2sZmlsZQ%3D%3D?line=3'>4</a>\u001b[0m \u001b[39mimport\u001b[39;00m \u001b[39mrandom\u001b[39;00m\n",
      "\u001b[0;31mModuleNotFoundError\u001b[0m: No module named 'torch'"
     ]
    }
   ],
   "source": [
    "import torch\n",
    "import torch.nn as nn\n",
    "\n",
    "import random\n",
    "import numpy as np\n",
    "import csv\n",
    "import matplotlib.pyplot as plt"
   ]
  },
  {
   "cell_type": "code",
   "execution_count": 3,
   "metadata": {},
   "outputs": [
    {
     "ename": "ModuleNotFoundError",
     "evalue": "No module named 'transformers'",
     "output_type": "error",
     "traceback": [
      "\u001b[0;31m---------------------------------------------------------------------------\u001b[0m",
      "\u001b[0;31mModuleNotFoundError\u001b[0m                       Traceback (most recent call last)",
      "\u001b[1;32m/Users/gbemidebe/Documents/LSUCourses/Fall2023/CSC7343/homeworks/Project/notebooks/prepareData.ipynb Cell 3\u001b[0m line \u001b[0;36m1\n\u001b[0;32m----> <a href='vscode-notebook-cell:/Users/gbemidebe/Documents/LSUCourses/Fall2023/CSC7343/homeworks/Project/notebooks/prepareData.ipynb#X12sZmlsZQ%3D%3D?line=0'>1</a>\u001b[0m \u001b[39mimport\u001b[39;00m \u001b[39mtransformers\u001b[39;00m\n",
      "\u001b[0;31mModuleNotFoundError\u001b[0m: No module named 'transformers'"
     ]
    }
   ],
   "source": [
    "import transformers"
   ]
  },
  {
   "cell_type": "markdown",
   "metadata": {},
   "source": [
    "## Read Data"
   ]
  },
  {
   "cell_type": "code",
   "execution_count": 5,
   "metadata": {},
   "outputs": [],
   "source": [
    "# fix random seeds\n",
    "seed = 42\n",
    "torch.manual_seed(seed)\n",
    "np.random.seed(seed)\n",
    "random.seed(seed)\n",
    "    \n",
    "# load CSV dataset\n",
    "antigen = []\n",
    "TCR = []\n",
    "interaction=[]\n",
    "with open(\"./data/data.csv\") as csvDataFile:\n",
    "    csvReader = csv.reader(csvDataFile)\n",
    "    next(csvReader)\n",
    "    for row in csvReader:\n",
    "        antigen.append(row[0])\n",
    "        TCR.append(row[1])\n",
    "        interaction.append(row[2])\n",
    "\n",
    "antigen = np.asarray(antigen)\n",
    "TCR = np.asarray(TCR)\n",
    "interaction = np.asarray(interaction, dtype=\"float\")\n",
    "\n",
    "\n",
    "dataset_size = len(antigen)\n",
    "all_ind = np.arange(dataset_size)"
   ]
  },
  {
   "cell_type": "markdown",
   "metadata": {},
   "source": [
    "## Prepare input"
   ]
  },
  {
   "cell_type": "code",
   "execution_count": 8,
   "metadata": {},
   "outputs": [
    {
     "data": {
      "text/plain": [
       "['<cls>AAGIGILTV<sep>CAISEVGVGQPQHF',\n",
       " '<cls>AAGIGILTV<sep>CASSLSFGTEAFF',\n",
       " '<cls>AARAVFLAL<sep>CASLGAQNNEQF',\n",
       " '<cls>AARAVFLAL<sep>CASSYSTGDEQYF',\n",
       " '<cls>AIMDKNIIL<sep>CASSVDGGSQPQHF']"
      ]
     },
     "execution_count": 8,
     "metadata": {},
     "output_type": "execute_result"
    }
   ],
   "source": [
    "# Determine the maximum lengths of antigen and TCR sequences\n",
    "max_antigen_length = max(len(item[0]) for item in antigen)\n",
    "max_tcr_length = max(len(item[1]) for item in TCR)\n",
    "\n",
    "# Function to pad sequences to a given length\n",
    "def pad_sequence(sequence, max_length):\n",
    "    return sequence + 'X' * (max_length - len(sequence))  # Using 'X' as the padding character\n",
    "\n",
    "# Preprocess and create the combined sequences\n",
    "preprocessed_data = []\n",
    "for antigen, tcr in zip(antigen, TCR):\n",
    "    padded_antigen = pad_sequence(antigen, max_antigen_length)\n",
    "    padded_tcr = pad_sequence(tcr, max_tcr_length)\n",
    "    combined_sequence = f\"<cls>{padded_antigen}<sep>{padded_tcr}\"\n",
    "    preprocessed_data.append(combined_sequence)\n",
    "\n",
    "# Displaying the first few combined sequences for verification\n",
    "preprocessed_data[:5]  # Display the first 5 combined sequences\n"
   ]
  },
  {
   "cell_type": "code",
   "execution_count": 11,
   "metadata": {},
   "outputs": [
    {
     "data": {
      "text/plain": [
       "['<cls>ALGIGILTV<sep>CASSFLGTGVEQYF',\n",
       " '<cls>ALIHHNTHL<sep>CASSIESGSKQRNEQFF',\n",
       " '<cls>ALIHHNTHL<sep>CASSLAVQRPSGNTIYF',\n",
       " '<cls>ALIHHNTHL<sep>CASSPRDRVHEQYF',\n",
       " '<cls>ALIHHNTHL<sep>CASSQSETGDGYTF',\n",
       " '<cls>ALIHHNTYL<sep>CASSDLQENQPQHF',\n",
       " '<cls>ALIHHNTYL<sep>CSVVGTGSVITNEKLFF',\n",
       " '<cls>ALLETLSLLL<sep>CSARNRDTYYNEQFF',\n",
       " '<cls>ALLQVTLLL<sep>CASSSTDGYQETQYF',\n",
       " '<cls>ALSPVIPHI<sep>CASSFSGTFEAFF',\n",
       " '<cls>ALSPVIPHI<sep>CASSPVLGTYGYTF',\n",
       " '<cls>ALSPVIPHI<sep>CASSYFLEQYF',\n",
       " '<cls>ALSPVIPLI<sep>CAISETGGGQPQHF',\n",
       " '<cls>ALSPVIPLI<sep>CASSGAAGTSAYNEQFF',\n",
       " '<cls>ALSPVIPLI<sep>CASSGQGAYITDTQYF',\n",
       " '<cls>ALSPVIPLI<sep>CASSLGTLNEQFF',\n",
       " '<cls>ALSPVIPLI<sep>CASSPVLGTYGYTF',\n",
       " '<cls>ALSPVIPLI<sep>CASSQGPPGSGGGNEQFF',\n",
       " '<cls>ALSPVIPLI<sep>CASSVETGGLDTQYF',\n",
       " '<cls>ALSPVIPLI<sep>CASSYSSDRSSYEQYF',\n",
       " '<cls>ALSPVIPLI<sep>CASYPISRASYEQYF',\n",
       " '<cls>ALSPVIPLI<sep>CSATCNGTFLYQETQYF',\n",
       " '<cls>ALSYTPAEV<sep>CASSLGQEIPYYGYTF',\n",
       " '<cls>ALSYTPAEV<sep>CASSSPSGYEQYF',\n",
       " '<cls>ALSYTPAEV<sep>CASSTQGTGVYNEQFF',\n",
       " '<cls>ALTPVVVTL<sep>CASRMNTEAF',\n",
       " '<cls>ALTPVVVTL<sep>CASSAQGFGELF',\n",
       " '<cls>ALTPVVVTL<sep>CASSEGRETQYF',\n",
       " '<cls>ALTPVVVTL<sep>CASSIGQGPYEQYF',\n",
       " '<cls>ALTPVVVTL<sep>CASSLGGRRYEQYF',\n",
       " '<cls>ALTPVVVTL<sep>CASSLGQKEQYF',\n",
       " '<cls>ALVGAIPSI<sep>CASSFSAREYGYTF',\n",
       " '<cls>ALWGPDPAAA<sep>CASSLWEKLAKNIQYF',\n",
       " '<cls>ALWGPDPAA<sep>CASSLVPLSPEQYF',\n",
       " '<cls>ALYGFVPVL<sep>CASSGVAEWALETQYF',\n",
       " '<cls>ALYGFVPVL<sep>CASSPVGYEQYF',\n",
       " '<cls>ALYGFVPVL<sep>CASSQDGVQHF',\n",
       " '<cls>ALYGFVPVL<sep>CASSSLAGSRNEQFF',\n",
       " '<cls>ALYGFVPVL<sep>CASSWRRGTDTQYF',\n",
       " '<cls>ALYGFVPVL<sep>CASSYSGQGYTF',\n",
       " '<cls>ALYGFVPVL<sep>CTSSQDLRRKISTDTQYF',\n",
       " '<cls>ALYGSVPVL<sep>CASKSWDMAYEQYF',\n",
       " '<cls>ALYGSVPVL<sep>CASSDWGGETQYF',\n",
       " '<cls>ALYGSVPVL<sep>CASSPGTSYEQYF',\n",
       " '<cls>ALYGSVPVL<sep>CASSQDGVQHF',\n",
       " '<cls>ALYGSVPVL<sep>CASSQGGGGTDTQYF',\n",
       " '<cls>ALYGSVPVL<sep>CASSQGSGANVLTF',\n",
       " '<cls>ALYGSVPVL<sep>CASSYSSGTEAFF',\n",
       " '<cls>ALYGSVPVL<sep>CSVPEGNTGELFF',\n",
       " '<cls>ALYGSVPVL<sep>CSWDFQETQYF',\n",
       " '<cls>AMAGSLVFL<sep>CASSPMTDSTDTQYF',\n",
       " '<cls>AMAGSPVFL<sep>CASSHDDRGPNEKLFF',\n",
       " '<cls>AMFWSVPTV<sep>CAFGVNWDLPHSGNTIYF',\n",
       " '<cls>AMFWSVPTV<sep>CAIGLAGAYEQYF',\n",
       " '<cls>AMFWSVPTV<sep>CAIGPQGGFYEQYF',\n",
       " '<cls>AMFWSVPTV<sep>CASKGLAGAYTDTQYF',\n",
       " '<cls>AMFWSVPTV<sep>CASRLTAGEYQETQYF',\n",
       " '<cls>AMFWSVPTV<sep>CASSASWTDYYGYTF',\n",
       " '<cls>AMFWSVPTV<sep>CASSAVDRVTSYNEQFF',\n",
       " '<cls>AMFWSVPTV<sep>CASSDLLTGELFF',\n",
       " '<cls>AMFWSVPTV<sep>CASSEGVGLAFEQFF',\n",
       " '<cls>AMFWSVPTV<sep>CASSELWGAGDNEQFF',\n",
       " '<cls>AMFWSVPTV<sep>CASSEPGTVEAFF',\n",
       " '<cls>AMFWSVPTV<sep>CASSFITGLHYEQYF',\n",
       " '<cls>AMFWSVPTV<sep>CASSFPGYGLNTEAFF',\n",
       " '<cls>AMFWSVPTV<sep>CASSFQGGTGNTIYF',\n",
       " '<cls>AMFWSVPTV<sep>CASSFSGGLTHEQYF',\n",
       " '<cls>AMFWSVPTV<sep>CASSFTAGLNTEAFF',\n",
       " '<cls>AMFWSVPTV<sep>CASSFTWGLNTEAFF',\n",
       " '<cls>AMFWSVPTV<sep>CASSFWGLSTEAFF',\n",
       " '<cls>AMFWSVPTV<sep>CASSGLITDTQYF',\n",
       " '<cls>AMFWSVPTV<sep>CASSHRTTDEETQYF',\n",
       " '<cls>AMFWSVPTV<sep>CASSIAGGYEQYF',\n",
       " '<cls>AMFWSVPTV<sep>CASSIASGIYEQYF',\n",
       " '<cls>AMFWSVPTV<sep>CASSIGGQEETQYF',\n",
       " '<cls>AMFWSVPTV<sep>CASSISAGYEQYF',\n",
       " '<cls>AMFWSVPTV<sep>CASSISGGYEQYF',\n",
       " '<cls>AMFWSVPTV<sep>CASSISSSEKLFF',\n",
       " '<cls>AMFWSVPTV<sep>CASSKLAGGLDTQYF',\n",
       " '<cls>AMFWSVPTV<sep>CASSLALPYEQYF',\n",
       " '<cls>AMFWSVPTV<sep>CASSLDLYEQYF',\n",
       " '<cls>AMFWSVPTV<sep>CASSLEIVGETEAFF',\n",
       " '<cls>AMFWSVPTV<sep>CASSLGAGEQFF',\n",
       " '<cls>AMFWSVPTV<sep>CASSLGAGEQYF',\n",
       " '<cls>AMFWSVPTV<sep>CASSLGGNEQYF',\n",
       " '<cls>AMFWSVPTV<sep>CASSLIAGNSDTQYF',\n",
       " '<cls>AMFWSVPTV<sep>CASSLITGLSYEQYF',\n",
       " '<cls>AMFWSVPTV<sep>CASSLVGGLAETQYF',\n",
       " '<cls>AMFWSVPTV<sep>CASSLVGGLSNQPQHF',\n",
       " '<cls>AMFWSVPTV<sep>CASSLVVGLALEQYF',\n",
       " '<cls>AMFWSVPTV<sep>CASSLVWGLGTEAFF',\n",
       " '<cls>AMFWSVPTV<sep>CASSLWDYGYTF',\n",
       " '<cls>AMFWSVPTV<sep>CASSLWGVGTEAFF',\n",
       " '<cls>AMFWSVPTV<sep>CASSLWYNQPQHF',\n",
       " '<cls>AMFWSVPTV<sep>CASSPGLLAGGSSWETQYF']"
      ]
     },
     "execution_count": 11,
     "metadata": {},
     "output_type": "execute_result"
    }
   ],
   "source": [
    "preprocessed_data[5:100]"
   ]
  }
 ],
 "metadata": {
  "kernelspec": {
   "display_name": "MatML",
   "language": "python",
   "name": "python3"
  },
  "language_info": {
   "codemirror_mode": {
    "name": "ipython",
    "version": 3
   },
   "file_extension": ".py",
   "mimetype": "text/x-python",
   "name": "python",
   "nbconvert_exporter": "python",
   "pygments_lexer": "ipython3",
   "version": "3.8.18"
  }
 },
 "nbformat": 4,
 "nbformat_minor": 2
}
