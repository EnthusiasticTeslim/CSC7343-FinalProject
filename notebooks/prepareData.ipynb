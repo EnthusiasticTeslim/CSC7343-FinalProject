{
 "cells": [
  {
   "cell_type": "code",
   "execution_count": 1,
   "metadata": {},
   "outputs": [
    {
     "name": "stdout",
     "output_type": "stream",
     "text": [
      "/Users/gbemidebe/Documents/LSUCourses/Fall2023/CSC7343/homeworks/Project\n"
     ]
    }
   ],
   "source": [
    "import os\n",
    "\n",
    "os.chdir('../')\n",
    "\n",
    "print(os.getcwd())"
   ]
  },
  {
   "cell_type": "code",
   "execution_count": 12,
   "metadata": {},
   "outputs": [],
   "source": [
    "import torch\n",
    "import torch.nn as nn\n",
    "\n",
    "import random\n",
    "import numpy as np\n",
    "import pandas as pd\n",
    "import csv\n",
    "import matplotlib.pyplot as plt"
   ]
  },
  {
   "cell_type": "markdown",
   "metadata": {},
   "source": [
    "## Read Data"
   ]
  },
  {
   "cell_type": "code",
   "execution_count": 14,
   "metadata": {},
   "outputs": [
    {
     "data": {
      "text/html": [
       "<div>\n",
       "<style scoped>\n",
       "    .dataframe tbody tr th:only-of-type {\n",
       "        vertical-align: middle;\n",
       "    }\n",
       "\n",
       "    .dataframe tbody tr th {\n",
       "        vertical-align: top;\n",
       "    }\n",
       "\n",
       "    .dataframe thead th {\n",
       "        text-align: right;\n",
       "    }\n",
       "</style>\n",
       "<table border=\"1\" class=\"dataframe\">\n",
       "  <thead>\n",
       "    <tr style=\"text-align: right;\">\n",
       "      <th></th>\n",
       "      <th>antigen</th>\n",
       "      <th>TCR</th>\n",
       "      <th>interaction</th>\n",
       "    </tr>\n",
       "  </thead>\n",
       "  <tbody>\n",
       "    <tr>\n",
       "      <th>0</th>\n",
       "      <td>AAGIGILTV</td>\n",
       "      <td>CAISEVGVGQPQHF</td>\n",
       "      <td>1</td>\n",
       "    </tr>\n",
       "    <tr>\n",
       "      <th>1</th>\n",
       "      <td>AAGIGILTV</td>\n",
       "      <td>CASSLSFGTEAFF</td>\n",
       "      <td>1</td>\n",
       "    </tr>\n",
       "    <tr>\n",
       "      <th>2</th>\n",
       "      <td>AARAVFLAL</td>\n",
       "      <td>CASLGAQNNEQF</td>\n",
       "      <td>1</td>\n",
       "    </tr>\n",
       "    <tr>\n",
       "      <th>3</th>\n",
       "      <td>AARAVFLAL</td>\n",
       "      <td>CASSYSTGDEQYF</td>\n",
       "      <td>1</td>\n",
       "    </tr>\n",
       "    <tr>\n",
       "      <th>4</th>\n",
       "      <td>AIMDKNIIL</td>\n",
       "      <td>CASSVDGGSQPQHF</td>\n",
       "      <td>1</td>\n",
       "    </tr>\n",
       "  </tbody>\n",
       "</table>\n",
       "</div>"
      ],
      "text/plain": [
       "     antigen             TCR  interaction\n",
       "0  AAGIGILTV  CAISEVGVGQPQHF            1\n",
       "1  AAGIGILTV   CASSLSFGTEAFF            1\n",
       "2  AARAVFLAL    CASLGAQNNEQF            1\n",
       "3  AARAVFLAL   CASSYSTGDEQYF            1\n",
       "4  AIMDKNIIL  CASSVDGGSQPQHF            1"
      ]
     },
     "execution_count": 14,
     "metadata": {},
     "output_type": "execute_result"
    }
   ],
   "source": [
    "data = pd.read_csv('data//data.csv')\n",
    "data.head()"
   ]
  },
  {
   "cell_type": "code",
   "execution_count": 17,
   "metadata": {},
   "outputs": [],
   "source": [
    "data[['antigen', 'TCR']].to_csv('data/data_no_interation.csv', index=False, header=False)"
   ]
  },
  {
   "cell_type": "code",
   "execution_count": 3,
   "metadata": {},
   "outputs": [
    {
     "name": "stdout",
     "output_type": "stream",
     "text": [
      "Dataset size:  130471\n"
     ]
    }
   ],
   "source": [
    "# fix random seeds\n",
    "seed = 42\n",
    "torch.manual_seed(seed)\n",
    "np.random.seed(seed)\n",
    "random.seed(seed)\n",
    "    \n",
    "# load CSV dataset\n",
    "antigen = []\n",
    "TCR = []\n",
    "interaction=[]\n",
    "with open(\"./data/data.csv\") as csvDataFile:\n",
    "    csvReader = csv.reader(csvDataFile)\n",
    "    next(csvReader)\n",
    "    for row in csvReader:\n",
    "        antigen.append(row[0])\n",
    "        TCR.append(row[1])\n",
    "        interaction.append(row[2])\n",
    "\n",
    "antigen = np.asarray(antigen, dtype='str')\n",
    "TCR = np.asarray(TCR, dtype='str')\n",
    "interaction = np.asarray(interaction, dtype=\"int\")\n",
    "\n",
    "\n",
    "dataset_size = len(antigen)\n",
    "print(\"Dataset size: \", dataset_size)\n",
    "all_ind = np.arange(dataset_size)"
   ]
  },
  {
   "cell_type": "code",
   "execution_count": 7,
   "metadata": {},
   "outputs": [
    {
     "data": {
      "text/plain": [
       "(400, 127277)"
      ]
     },
     "execution_count": 7,
     "metadata": {},
     "output_type": "execute_result"
    }
   ],
   "source": [
    "len(set(antigen)), len(set(TCR))"
   ]
  },
  {
   "cell_type": "code",
   "execution_count": 9,
   "metadata": {},
   "outputs": [
    {
     "name": "stdout",
     "output_type": "stream",
     "text": [
      "['d', 'e', 'h', 'i', 'l', 'm', 'o', 'r', 's', 't', 'w']\n"
     ]
    }
   ],
   "source": [
    "def find_unique_characters(str_list):\n",
    "    # Initialize an empty set to store unique characters\n",
    "    unique_chars = set()\n",
    "\n",
    "    # Iterate over each string and update the set with unique characters from that string\n",
    "    for s in str_list:\n",
    "        unique_chars.update(set(s))\n",
    "\n",
    "    # Convert the set to a sorted string\n",
    "    return ''.join(sorted(unique_chars))\n",
    "\n",
    "# Example usage\n",
    "str_array = [\"hello\", \"world\", \"owl\", \"teslim\"]\n",
    "print(sorted(find_unique_characters(str_array)))\n"
   ]
  },
  {
   "cell_type": "markdown",
   "metadata": {},
   "source": [
    "## Prepare input"
   ]
  },
  {
   "cell_type": "code",
   "execution_count": 10,
   "metadata": {},
   "outputs": [
    {
     "name": "stdout",
     "output_type": "stream",
     "text": [
      "Unique antigen:  ['A', 'C', 'D', 'E', 'F', 'G', 'H', 'I', 'K', 'L', 'M', 'N', 'P', 'Q', 'R', 'S', 'T', 'V', 'W', 'Y'] 20\n",
      "Unique TCR:  ['A', 'C', 'D', 'E', 'F', 'G', 'H', 'I', 'K', 'L', 'M', 'N', 'P', 'Q', 'R', 'S', 'T', 'V', 'W', 'Y'] 20\n"
     ]
    }
   ],
   "source": [
    "# get unique elements in antigen and TCR\n",
    "unique_antigen = sorted(find_unique_characters(antigen))\n",
    "unique_TCR = sorted(find_unique_characters(TCR))\n",
    "print(\"Unique antigen: \", unique_antigen, len(unique_antigen))\n",
    "print(\"Unique TCR: \", unique_TCR, len(unique_TCR))"
   ]
  },
  {
   "cell_type": "code",
   "execution_count": 6,
   "metadata": {},
   "outputs": [
    {
     "data": {
      "text/plain": [
       "['<cls>AAGIGILTV<sep>CAISEVGVGQPQHF',\n",
       " '<cls>AAGIGILTV<sep>CASSLSFGTEAFF',\n",
       " '<cls>AARAVFLAL<sep>CASLGAQNNEQF',\n",
       " '<cls>AARAVFLAL<sep>CASSYSTGDEQYF',\n",
       " '<cls>AIMDKNIIL<sep>CASSVDGGSQPQHF']"
      ]
     },
     "execution_count": 6,
     "metadata": {},
     "output_type": "execute_result"
    }
   ],
   "source": [
    "# Determine the maximum lengths of antigen and TCR sequences\n",
    "max_antigen_length = max(len(item[0]) for item in antigen)\n",
    "max_tcr_length = max(len(item[1]) for item in TCR)\n",
    "\n",
    "# Function to pad sequences to a given length\n",
    "def pad_sequence(sequence, max_length):\n",
    "    return sequence + 'X' * (max_length - len(sequence))  # Using 'X' as the padding character\n",
    "\n",
    "# Preprocess and create the combined sequences\n",
    "preprocessed_data = []\n",
    "for antigen, tcr in zip(antigen, TCR):\n",
    "    padded_antigen = pad_sequence(antigen, max_antigen_length)\n",
    "    padded_tcr = pad_sequence(tcr, max_tcr_length)\n",
    "    combined_sequence = f\"<cls>{padded_antigen}<sep>{padded_tcr}\"\n",
    "    preprocessed_data.append(combined_sequence)\n",
    "\n",
    "# Displaying the first few combined sequences for verification\n",
    "preprocessed_data[:5]  # Display the first 5 combined sequences\n"
   ]
  },
  {
   "cell_type": "code",
   "execution_count": 7,
   "metadata": {},
   "outputs": [
    {
     "data": {
      "text/plain": [
       "2"
      ]
     },
     "execution_count": 7,
     "metadata": {},
     "output_type": "execute_result"
    }
   ],
   "source": [
    "max_antigen_length + max_tcr_length"
   ]
  },
  {
   "cell_type": "code",
   "execution_count": 8,
   "metadata": {},
   "outputs": [
    {
     "data": {
      "text/plain": [
       "['<cls>ALGIGILTV<sep>CASSFLGTGVEQYF',\n",
       " '<cls>ALIHHNTHL<sep>CASSIESGSKQRNEQFF',\n",
       " '<cls>ALIHHNTHL<sep>CASSLAVQRPSGNTIYF',\n",
       " '<cls>ALIHHNTHL<sep>CASSPRDRVHEQYF',\n",
       " '<cls>ALIHHNTHL<sep>CASSQSETGDGYTF',\n",
       " '<cls>ALIHHNTYL<sep>CASSDLQENQPQHF',\n",
       " '<cls>ALIHHNTYL<sep>CSVVGTGSVITNEKLFF',\n",
       " '<cls>ALLETLSLLL<sep>CSARNRDTYYNEQFF',\n",
       " '<cls>ALLQVTLLL<sep>CASSSTDGYQETQYF',\n",
       " '<cls>ALSPVIPHI<sep>CASSFSGTFEAFF',\n",
       " '<cls>ALSPVIPHI<sep>CASSPVLGTYGYTF',\n",
       " '<cls>ALSPVIPHI<sep>CASSYFLEQYF',\n",
       " '<cls>ALSPVIPLI<sep>CAISETGGGQPQHF',\n",
       " '<cls>ALSPVIPLI<sep>CASSGAAGTSAYNEQFF',\n",
       " '<cls>ALSPVIPLI<sep>CASSGQGAYITDTQYF',\n",
       " '<cls>ALSPVIPLI<sep>CASSLGTLNEQFF',\n",
       " '<cls>ALSPVIPLI<sep>CASSPVLGTYGYTF',\n",
       " '<cls>ALSPVIPLI<sep>CASSQGPPGSGGGNEQFF',\n",
       " '<cls>ALSPVIPLI<sep>CASSVETGGLDTQYF',\n",
       " '<cls>ALSPVIPLI<sep>CASSYSSDRSSYEQYF',\n",
       " '<cls>ALSPVIPLI<sep>CASYPISRASYEQYF',\n",
       " '<cls>ALSPVIPLI<sep>CSATCNGTFLYQETQYF',\n",
       " '<cls>ALSYTPAEV<sep>CASSLGQEIPYYGYTF',\n",
       " '<cls>ALSYTPAEV<sep>CASSSPSGYEQYF',\n",
       " '<cls>ALSYTPAEV<sep>CASSTQGTGVYNEQFF',\n",
       " '<cls>ALTPVVVTL<sep>CASRMNTEAF',\n",
       " '<cls>ALTPVVVTL<sep>CASSAQGFGELF',\n",
       " '<cls>ALTPVVVTL<sep>CASSEGRETQYF',\n",
       " '<cls>ALTPVVVTL<sep>CASSIGQGPYEQYF',\n",
       " '<cls>ALTPVVVTL<sep>CASSLGGRRYEQYF',\n",
       " '<cls>ALTPVVVTL<sep>CASSLGQKEQYF',\n",
       " '<cls>ALVGAIPSI<sep>CASSFSAREYGYTF',\n",
       " '<cls>ALWGPDPAAA<sep>CASSLWEKLAKNIQYF',\n",
       " '<cls>ALWGPDPAA<sep>CASSLVPLSPEQYF',\n",
       " '<cls>ALYGFVPVL<sep>CASSGVAEWALETQYF',\n",
       " '<cls>ALYGFVPVL<sep>CASSPVGYEQYF',\n",
       " '<cls>ALYGFVPVL<sep>CASSQDGVQHF',\n",
       " '<cls>ALYGFVPVL<sep>CASSSLAGSRNEQFF',\n",
       " '<cls>ALYGFVPVL<sep>CASSWRRGTDTQYF',\n",
       " '<cls>ALYGFVPVL<sep>CASSYSGQGYTF',\n",
       " '<cls>ALYGFVPVL<sep>CTSSQDLRRKISTDTQYF',\n",
       " '<cls>ALYGSVPVL<sep>CASKSWDMAYEQYF',\n",
       " '<cls>ALYGSVPVL<sep>CASSDWGGETQYF',\n",
       " '<cls>ALYGSVPVL<sep>CASSPGTSYEQYF',\n",
       " '<cls>ALYGSVPVL<sep>CASSQDGVQHF',\n",
       " '<cls>ALYGSVPVL<sep>CASSQGGGGTDTQYF',\n",
       " '<cls>ALYGSVPVL<sep>CASSQGSGANVLTF',\n",
       " '<cls>ALYGSVPVL<sep>CASSYSSGTEAFF',\n",
       " '<cls>ALYGSVPVL<sep>CSVPEGNTGELFF',\n",
       " '<cls>ALYGSVPVL<sep>CSWDFQETQYF',\n",
       " '<cls>AMAGSLVFL<sep>CASSPMTDSTDTQYF',\n",
       " '<cls>AMAGSPVFL<sep>CASSHDDRGPNEKLFF',\n",
       " '<cls>AMFWSVPTV<sep>CAFGVNWDLPHSGNTIYF',\n",
       " '<cls>AMFWSVPTV<sep>CAIGLAGAYEQYF',\n",
       " '<cls>AMFWSVPTV<sep>CAIGPQGGFYEQYF',\n",
       " '<cls>AMFWSVPTV<sep>CASKGLAGAYTDTQYF',\n",
       " '<cls>AMFWSVPTV<sep>CASRLTAGEYQETQYF',\n",
       " '<cls>AMFWSVPTV<sep>CASSASWTDYYGYTF',\n",
       " '<cls>AMFWSVPTV<sep>CASSAVDRVTSYNEQFF',\n",
       " '<cls>AMFWSVPTV<sep>CASSDLLTGELFF',\n",
       " '<cls>AMFWSVPTV<sep>CASSEGVGLAFEQFF',\n",
       " '<cls>AMFWSVPTV<sep>CASSELWGAGDNEQFF',\n",
       " '<cls>AMFWSVPTV<sep>CASSEPGTVEAFF',\n",
       " '<cls>AMFWSVPTV<sep>CASSFITGLHYEQYF',\n",
       " '<cls>AMFWSVPTV<sep>CASSFPGYGLNTEAFF',\n",
       " '<cls>AMFWSVPTV<sep>CASSFQGGTGNTIYF',\n",
       " '<cls>AMFWSVPTV<sep>CASSFSGGLTHEQYF',\n",
       " '<cls>AMFWSVPTV<sep>CASSFTAGLNTEAFF',\n",
       " '<cls>AMFWSVPTV<sep>CASSFTWGLNTEAFF',\n",
       " '<cls>AMFWSVPTV<sep>CASSFWGLSTEAFF',\n",
       " '<cls>AMFWSVPTV<sep>CASSGLITDTQYF',\n",
       " '<cls>AMFWSVPTV<sep>CASSHRTTDEETQYF',\n",
       " '<cls>AMFWSVPTV<sep>CASSIAGGYEQYF',\n",
       " '<cls>AMFWSVPTV<sep>CASSIASGIYEQYF',\n",
       " '<cls>AMFWSVPTV<sep>CASSIGGQEETQYF',\n",
       " '<cls>AMFWSVPTV<sep>CASSISAGYEQYF',\n",
       " '<cls>AMFWSVPTV<sep>CASSISGGYEQYF',\n",
       " '<cls>AMFWSVPTV<sep>CASSISSSEKLFF',\n",
       " '<cls>AMFWSVPTV<sep>CASSKLAGGLDTQYF',\n",
       " '<cls>AMFWSVPTV<sep>CASSLALPYEQYF',\n",
       " '<cls>AMFWSVPTV<sep>CASSLDLYEQYF',\n",
       " '<cls>AMFWSVPTV<sep>CASSLEIVGETEAFF',\n",
       " '<cls>AMFWSVPTV<sep>CASSLGAGEQFF',\n",
       " '<cls>AMFWSVPTV<sep>CASSLGAGEQYF',\n",
       " '<cls>AMFWSVPTV<sep>CASSLGGNEQYF',\n",
       " '<cls>AMFWSVPTV<sep>CASSLIAGNSDTQYF',\n",
       " '<cls>AMFWSVPTV<sep>CASSLITGLSYEQYF',\n",
       " '<cls>AMFWSVPTV<sep>CASSLVGGLAETQYF',\n",
       " '<cls>AMFWSVPTV<sep>CASSLVGGLSNQPQHF',\n",
       " '<cls>AMFWSVPTV<sep>CASSLVVGLALEQYF',\n",
       " '<cls>AMFWSVPTV<sep>CASSLVWGLGTEAFF',\n",
       " '<cls>AMFWSVPTV<sep>CASSLWDYGYTF',\n",
       " '<cls>AMFWSVPTV<sep>CASSLWGVGTEAFF',\n",
       " '<cls>AMFWSVPTV<sep>CASSLWYNQPQHF',\n",
       " '<cls>AMFWSVPTV<sep>CASSPGLLAGGSSWETQYF']"
      ]
     },
     "execution_count": 8,
     "metadata": {},
     "output_type": "execute_result"
    }
   ],
   "source": [
    "preprocessed_data[5:100]"
   ]
  }
 ],
 "metadata": {
  "kernelspec": {
   "display_name": "MatML",
   "language": "python",
   "name": "python3"
  },
  "language_info": {
   "codemirror_mode": {
    "name": "ipython",
    "version": 3
   },
   "file_extension": ".py",
   "mimetype": "text/x-python",
   "name": "python",
   "nbconvert_exporter": "python",
   "pygments_lexer": "ipython3",
   "version": "3.8.18"
  }
 },
 "nbformat": 4,
 "nbformat_minor": 2
}
