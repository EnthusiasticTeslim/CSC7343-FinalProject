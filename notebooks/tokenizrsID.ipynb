{
 "cells": [
  {
   "cell_type": "code",
   "execution_count": null,
   "metadata": {},
   "outputs": [],
   "source": [
    "[PAD]\n",
    "[CLS]\n",
    "[SEP]\n",
    "[MASK]\n",
    "[UNK]\n",
    "G\n",
    "T\n",
    "C\n",
    "Q\n",
    "N\n",
    "W\n",
    "E\n",
    "I\n",
    "Y\n",
    "A\n",
    "R\n",
    "L\n",
    "S\n",
    "M\n",
    "D\n",
    "F\n",
    "H\n",
    "K\n",
    "V\n",
    "P\n",
    "self.encodings = {f\"{self.PAD}\": 0, f\"{self.CLS}\": 1, f\"{self.SEP}\": 2, \"[MASK]\": 3,\n",
    "            f\"{self.UNK}\": 4, \"G\": 5, \"T\": 6, \"C\": 7, \"Q\": 8, \"N\": 9, \"W\": 10, \"E\": 11, \"I\": 12, \"Y\": 13, \"A\": 14, \"R\": 15,\n",
    "            \"L\": 16, \"S\": 17, \"M\": 18, \"D\": 19, \"F\": 20, \"H\": 21, \"K\": 22, \"V\": 23, \"P\": 24}"
   ]
  },
  {
   "cell_type": "code",
   "execution_count": null,
   "metadata": {},
   "outputs": [],
   "source": [
    "self.encodings = {\n",
    "            f\"{self.PAD}\": 0, f\"{self.CLS}\": 1, f\"{self.SEP}\": 2, \"[MASK]\": 3,\n",
    "            f\"{self.UNK}\": 4, \"L\": 5, \"W\": 6, \"H\": 7, \"N\": 8, \"R\": 9, \"S\": 10,\n",
    "            \"M\": 11, \"D\": 12, \"A\": 13, \"Q\": 14, \"C\": 15, \"F\": 16, \"V\": 17,\n",
    "            \"K\": 18, \"G\": 19, \"I\": 20, \"E\": 21, \"Y\": 22, \"P\": 23, \"T\": 24\n",
    "        }"
   ]
  }
 ],
 "metadata": {
  "language_info": {
   "name": "python"
  }
 },
 "nbformat": 4,
 "nbformat_minor": 2
}
