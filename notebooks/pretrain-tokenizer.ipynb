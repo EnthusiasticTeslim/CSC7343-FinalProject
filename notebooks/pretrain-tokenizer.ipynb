{
 "cells": [
  {
   "cell_type": "code",
   "execution_count": 1,
   "metadata": {},
   "outputs": [],
   "source": [
    "import torch\n",
    "import torch.nn as nn\n",
    "\n",
    "import random\n",
    "import numpy as np\n",
    "import pandas as pd\n",
    "import csv\n",
    "import matplotlib.pyplot as plt"
   ]
  },
  {
   "cell_type": "code",
   "execution_count": 2,
   "metadata": {},
   "outputs": [
    {
     "data": {
      "text/html": [
       "<div>\n",
       "<style scoped>\n",
       "    .dataframe tbody tr th:only-of-type {\n",
       "        vertical-align: middle;\n",
       "    }\n",
       "\n",
       "    .dataframe tbody tr th {\n",
       "        vertical-align: top;\n",
       "    }\n",
       "\n",
       "    .dataframe thead th {\n",
       "        text-align: right;\n",
       "    }\n",
       "</style>\n",
       "<table border=\"1\" class=\"dataframe\">\n",
       "  <thead>\n",
       "    <tr style=\"text-align: right;\">\n",
       "      <th></th>\n",
       "      <th>antigen</th>\n",
       "      <th>TCR</th>\n",
       "      <th>interaction</th>\n",
       "    </tr>\n",
       "  </thead>\n",
       "  <tbody>\n",
       "    <tr>\n",
       "      <th>0</th>\n",
       "      <td>AAGIGILTV</td>\n",
       "      <td>CAISEVGVGQPQHF</td>\n",
       "      <td>1</td>\n",
       "    </tr>\n",
       "    <tr>\n",
       "      <th>1</th>\n",
       "      <td>AAGIGILTV</td>\n",
       "      <td>CASSLSFGTEAFF</td>\n",
       "      <td>1</td>\n",
       "    </tr>\n",
       "    <tr>\n",
       "      <th>2</th>\n",
       "      <td>AARAVFLAL</td>\n",
       "      <td>CASLGAQNNEQF</td>\n",
       "      <td>1</td>\n",
       "    </tr>\n",
       "    <tr>\n",
       "      <th>3</th>\n",
       "      <td>AARAVFLAL</td>\n",
       "      <td>CASSYSTGDEQYF</td>\n",
       "      <td>1</td>\n",
       "    </tr>\n",
       "    <tr>\n",
       "      <th>4</th>\n",
       "      <td>AIMDKNIIL</td>\n",
       "      <td>CASSVDGGSQPQHF</td>\n",
       "      <td>1</td>\n",
       "    </tr>\n",
       "  </tbody>\n",
       "</table>\n",
       "</div>"
      ],
      "text/plain": [
       "     antigen             TCR  interaction\n",
       "0  AAGIGILTV  CAISEVGVGQPQHF            1\n",
       "1  AAGIGILTV   CASSLSFGTEAFF            1\n",
       "2  AARAVFLAL    CASLGAQNNEQF            1\n",
       "3  AARAVFLAL   CASSYSTGDEQYF            1\n",
       "4  AIMDKNIIL  CASSVDGGSQPQHF            1"
      ]
     },
     "execution_count": 2,
     "metadata": {},
     "output_type": "execute_result"
    }
   ],
   "source": [
    "data = pd.read_csv('../data/data.csv')\n",
    "data.head()"
   ]
  },
  {
   "cell_type": "code",
   "execution_count": 3,
   "metadata": {},
   "outputs": [],
   "source": [
    "data[['antigen', 'TCR']].to_csv('../data/data_no_interation.csv', index=False, header=False)"
   ]
  },
  {
   "cell_type": "code",
   "execution_count": 17,
   "metadata": {},
   "outputs": [],
   "source": [
    "# Initialize sets to store unique characters\n",
    "unique_chars= set()\n",
    "\n",
    "# Loop through the DataFrame and extract unique characters\n",
    "for _, row in data.iterrows():\n",
    "    unique_chars.update(set(str(row['antigen'])))\n",
    "    unique_chars.update(set(str(row['TCR'])))"
   ]
  },
  {
   "cell_type": "code",
   "execution_count": 18,
   "metadata": {},
   "outputs": [],
   "source": [
    "special_tokens=[\"[PAD]\", \"[CLS]\", \"[SEP]\", \"[MASK]\", \"[UNK]\"]"
   ]
  },
  {
   "cell_type": "code",
   "execution_count": 19,
   "metadata": {},
   "outputs": [
    {
     "data": {
      "text/plain": [
       "['[PAD]', '[CLS]', '[SEP]', '[MASK]', '[UNK]']"
      ]
     },
     "execution_count": 19,
     "metadata": {},
     "output_type": "execute_result"
    }
   ],
   "source": [
    "special_tokens"
   ]
  },
  {
   "cell_type": "code",
   "execution_count": 20,
   "metadata": {},
   "outputs": [],
   "source": [
    "vocab = special_tokens + list(unique_chars)"
   ]
  },
  {
   "cell_type": "code",
   "execution_count": 21,
   "metadata": {},
   "outputs": [
    {
     "data": {
      "text/plain": [
       "['[PAD]',\n",
       " '[CLS]',\n",
       " '[SEP]',\n",
       " '[MASK]',\n",
       " '[UNK]',\n",
       " 'V',\n",
       " 'M',\n",
       " 'G',\n",
       " 'L',\n",
       " 'F',\n",
       " 'N',\n",
       " 'Y',\n",
       " 'A',\n",
       " 'P',\n",
       " 'T',\n",
       " 'I',\n",
       " 'W',\n",
       " 'S',\n",
       " 'C',\n",
       " 'R',\n",
       " 'Q',\n",
       " 'D',\n",
       " 'K',\n",
       " 'H',\n",
       " 'E']"
      ]
     },
     "execution_count": 21,
     "metadata": {},
     "output_type": "execute_result"
    }
   ],
   "source": [
    "vocab"
   ]
  },
  {
   "cell_type": "code",
   "execution_count": 25,
   "metadata": {},
   "outputs": [],
   "source": [
    "# Open the file in write mode and write each element on a new line\n",
    "with open('vocab.txt', \"w\") as file:\n",
    "    for item in vocab:\n",
    "        file.write(str(item) + \"\\n\")"
   ]
  },
  {
   "cell_type": "markdown",
   "metadata": {},
   "source": [
    "### Tokenizer"
   ]
  },
  {
   "cell_type": "code",
   "execution_count": 27,
   "metadata": {},
   "outputs": [
    {
     "name": "stdout",
     "output_type": "stream",
     "text": [
      "vocab_size: 25\n"
     ]
    },
    {
     "data": {
      "text/plain": [
       "('antigen\\\\tokenizer_config.json',\n",
       " 'antigen\\\\special_tokens_map.json',\n",
       " 'antigen\\\\vocab.txt',\n",
       " 'antigen\\\\added_tokens.json',\n",
       " 'antigen\\\\tokenizer.json')"
      ]
     },
     "execution_count": 27,
     "metadata": {},
     "output_type": "execute_result"
    }
   ],
   "source": [
    "from transformers import BertTokenizerFast\n",
    "\n",
    "MODEL_NAME = 'antigen'\n",
    "\n",
    "VOCAB_FILE = \"vocab.txt\"\n",
    "\n",
    "tokenizer = BertTokenizerFast(\n",
    "  vocab_file=VOCAB_FILE,\n",
    "  do_lower_case=False\n",
    ")\n",
    "print('vocab_size:', len(tokenizer))\n",
    "\n",
    "tokenizer.save_pretrained(MODEL_NAME)"
   ]
  },
  {
   "cell_type": "code",
   "execution_count": null,
   "metadata": {},
   "outputs": [],
   "source": []
  }
 ],
 "metadata": {
  "kernelspec": {
   "display_name": "Python 3 (ipykernel)",
   "language": "python",
   "name": "python3"
  },
  "language_info": {
   "codemirror_mode": {
    "name": "ipython",
    "version": 3
   },
   "file_extension": ".py",
   "mimetype": "text/x-python",
   "name": "python",
   "nbconvert_exporter": "python",
   "pygments_lexer": "ipython3",
   "version": "3.9.18"
  }
 },
 "nbformat": 4,
 "nbformat_minor": 4
}
